{
 "cells": [
  {
   "cell_type": "code",
   "execution_count": null,
   "metadata": {},
   "outputs": [],
   "source": [
    "import pandas as pd\n",
    "import seaborn as sns   \n",
    "import time as tm\n",
    "import numpy as np\n",
    "import matplotlib.pyplot as plt\n",
    "import time\n",
    "import re\n",
    "from math import pi\n",
    "import networkx as nx"
   ]
  },
  {
   "cell_type": "code",
   "execution_count": null,
   "metadata": {},
   "outputs": [],
   "source": [
    "file1 = \"C:\\\\Users\\\\Usuario\\\\Documents\\\\CODIGO\\\\EVENT_SALUD\\\\DATA_salud_csv.csv\"\n",
    "data_salud = pd.read_csv(file1, sep=\";\")\n",
    "\n",
    "file2= \"C:\\\\Users\\\\Usuario\\\\Documents\\\\CODIGO\\\\EVENT_SALUD\\\\RECURSOS_salud_csv.csv\"\n",
    "recursos_salud = pd.read_csv(file2, sep=\";\")\n",
    "\n",
    "\n",
    "#Eliminando datos no deseados\n",
    "data_salud = data_salud[data_salud[\"EVENTOS\"] != \"Numero de Controles Prenatales realizados.\"]\n",
    "recursos_salud = recursos_salud.dropna(subset=['CA_CONSULTORIOS'])\n",
    "\n",
    "print(data_salud.isnull().sum())\n",
    "data_salud\n",
    "\n",
    "print(recursos_salud.isnull().sum())\n",
    "recursos_salud"
   ]
  }
 ],
 "metadata": {
  "language_info": {
   "name": "python"
  }
 },
 "nbformat": 4,
 "nbformat_minor": 2
}
