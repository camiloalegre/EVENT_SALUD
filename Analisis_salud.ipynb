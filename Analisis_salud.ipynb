{
 "cells": [
  {
   "cell_type": "code",
   "execution_count": 7,
   "metadata": {},
   "outputs": [],
   "source": [
    "import pandas as pd\n",
    "import numpy as np\n",
    "import psycopg2\n",
    "from sqlalchemy import create_engine\n",
    "import matplotlib \n"
   ]
  },
  {
   "cell_type": "code",
   "execution_count": 8,
   "metadata": {},
   "outputs": [
    {
     "name": "stdout",
     "output_type": "stream",
     "text": [
      "Conexión exitosa\n"
     ]
    }
   ],
   "source": [
    "USER= \"postgres\"\n",
    "PASSWORD= \"sagitario_11\"\n",
    "HOST= \"localhost\"\n",
    "PORT = \"5432\"\n",
    "DB= \"Analisis_eventos\"\n",
    "\n",
    "# Conecta usando SQLAlchemy\n",
    "engine = create_engine(f'postgresql://{USER}:{PASSWORD}@{HOST}:{PORT}/{DB}')\n",
    "\n",
    "# Prueba la conexión\n",
    "connection = engine.connect()\n",
    "print(\"Conexión exitosa\")"
   ]
  },
  {
   "cell_type": "code",
   "execution_count": 11,
   "metadata": {},
   "outputs": [
    {
     "name": "stdout",
     "output_type": "stream",
     "text": [
      "  DEPARTAMENTO  total_eventos\n",
      "0     AMAZONAS          18591\n",
      "1       ANCASH         103124\n",
      "2     APURIMAC          11096\n",
      "3     AREQUIPA         130128\n",
      "4     AYACUCHO          30712\n"
     ]
    }
   ],
   "source": [
    "# Consulta SQL\n",
    "query = \"\"\"\n",
    "SELECT \"DEPARTAMENTO\", SUM(\"CANT_EVENTOS\") AS TOTAL_EVENTOS\n",
    "FROM public.\"SALUD\"\n",
    "GROUP BY \"DEPARTAMENTO\"\n",
    "\"\"\"\n",
    "# Ejecuta la consulta y carga los datos en un DataFrame\n",
    "df = pd.read_sql(query, con=engine)\n",
    "\n",
    "# Muestra los primeros registros\n",
    "print(df.head())\n"
   ]
  }
 ],
 "metadata": {
  "kernelspec": {
   "display_name": "Python 3",
   "language": "python",
   "name": "python3"
  },
  "language_info": {
   "codemirror_mode": {
    "name": "ipython",
    "version": 3
   },
   "file_extension": ".py",
   "mimetype": "text/x-python",
   "name": "python",
   "nbconvert_exporter": "python",
   "pygments_lexer": "ipython3",
   "version": "3.11.2"
  }
 },
 "nbformat": 4,
 "nbformat_minor": 2
}
